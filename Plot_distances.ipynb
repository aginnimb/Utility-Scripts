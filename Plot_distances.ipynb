{
 "cells": [
  {
   "cell_type": "code",
   "execution_count": 246,
   "id": "91150700-6ca8-4a7c-b546-583585e112cd",
   "metadata": {},
   "outputs": [],
   "source": [
    "#import modules\n",
    "import pandas as pd\n",
    "import os\n",
    "import matplotlib.pyplot as plt\n",
    "import matplotlib.colors as mcolors\n",
    "\n",
    "from importlib import reload\n",
    "plt=reload(plt)\n"
   ]
  },
  {
   "cell_type": "code",
   "execution_count": 247,
   "id": "9f429df5-0c7d-4fe3-81a4-45fc15f93577",
   "metadata": {},
   "outputs": [],
   "source": [
    "#Read Data\n",
    "\n",
    "#BN\n",
    "bn_dist = pd.read_csv(\"BN_pairwises_dist.csv\" ,sep=\"\\t\")\n",
    "bn_dist.rename({'sample1':'BN_sample1','sample2':'BN_sample2','identity':'BN_identity','numSame':'BN_numAllelesSame','numCompared':'BN_numLociCompared'}, axis=1,inplace=True)\n",
    "\n",
    "#Etoki\n",
    "etoki_dist = pd.read_csv(\"etoki_pairwises_dist.csv\", sep = \"\\t\")\n",
    "etoki_dist.rename({'fasta1':'Etoki_sample1','fasta2':'Etoki_sample2','dist':'Etoki_identity','numAllelesSame':'Etoki_numAllelesSame','numLociSame':'Etoki_numLociCompared'}, axis=1,inplace=True)\n",
    "\n",
    "#hash-cgMLST\n",
    "hash_dist = pd.read_csv(\"hash-cgmlst_distances_updated.csv\", sep=\",\",skipinitialspace=True)\n",
    "hash_dist = hash_dist.drop('total_loci', axis=1)\n",
    "hash_dist['sample1'] = hash_dist['sample1'].str.replace('_crypto','')\n",
    "hash_dist['sample2'] = hash_dist['sample2'].str.replace('_crypto','')\n",
    "\n",
    "hash_dist.rename({'sample1':'hashcgmlst_sample1','sample2':'hashcgmlst_sample2','identity':'hashcgmlst_identity','num_alleles_same':'hashcgmlst_numAllelesSame','num_allele_compared':'hashcgmlst_numLociCompared'}, axis=1,inplace=True)\n"
   ]
  },
  {
   "cell_type": "code",
   "execution_count": 248,
   "id": "52a9b8cc-6636-4e90-a16a-59cf5e6652eb",
   "metadata": {},
   "outputs": [
    {
     "data": {
      "text/html": [
       "<div>\n",
       "<style scoped>\n",
       "    .dataframe tbody tr th:only-of-type {\n",
       "        vertical-align: middle;\n",
       "    }\n",
       "\n",
       "    .dataframe tbody tr th {\n",
       "        vertical-align: top;\n",
       "    }\n",
       "\n",
       "    .dataframe thead th {\n",
       "        text-align: right;\n",
       "    }\n",
       "</style>\n",
       "<table border=\"1\" class=\"dataframe\">\n",
       "  <thead>\n",
       "    <tr style=\"text-align: right;\">\n",
       "      <th></th>\n",
       "      <th>hashcgmlst_sample1</th>\n",
       "      <th>hashcgmlst_sample2</th>\n",
       "      <th>hashcgmlst_identity</th>\n",
       "      <th>hashcgmlst_numAllelesSame</th>\n",
       "      <th>hashcgmlst_numLociCompared</th>\n",
       "    </tr>\n",
       "  </thead>\n",
       "  <tbody>\n",
       "    <tr>\n",
       "      <th>0</th>\n",
       "      <td>33541_ROE6964A8_CTCTCTAC-CTAAGCCT</td>\n",
       "      <td>38783_Tag20_GTGGCC</td>\n",
       "      <td>0.297177</td>\n",
       "      <td>10</td>\n",
       "      <td>3365</td>\n",
       "    </tr>\n",
       "    <tr>\n",
       "      <th>1</th>\n",
       "      <td>33541_ROE6964A8_CTCTCTAC-CTAAGCCT</td>\n",
       "      <td>39011_Tag14_AGTTCC</td>\n",
       "      <td>0.297530</td>\n",
       "      <td>10</td>\n",
       "      <td>3361</td>\n",
       "    </tr>\n",
       "    <tr>\n",
       "      <th>2</th>\n",
       "      <td>33541_ROE6964A8_CTCTCTAC-CTAAGCCT</td>\n",
       "      <td>39609_ROE2901A7_CAGATC</td>\n",
       "      <td>0.298597</td>\n",
       "      <td>10</td>\n",
       "      <td>3349</td>\n",
       "    </tr>\n",
       "    <tr>\n",
       "      <th>3</th>\n",
       "      <td>33541_ROE6964A8_CTCTCTAC-CTAAGCCT</td>\n",
       "      <td>39722_ROE2901A4_TGACCA</td>\n",
       "      <td>0.297442</td>\n",
       "      <td>10</td>\n",
       "      <td>3362</td>\n",
       "    </tr>\n",
       "    <tr>\n",
       "      <th>4</th>\n",
       "      <td>33541_ROE6964A8_CTCTCTAC-CTAAGCCT</td>\n",
       "      <td>39898_ROE3112A2_CGCTCATT-ATAGAGGC</td>\n",
       "      <td>0.297619</td>\n",
       "      <td>10</td>\n",
       "      <td>3360</td>\n",
       "    </tr>\n",
       "  </tbody>\n",
       "</table>\n",
       "</div>"
      ],
      "text/plain": [
       "                  hashcgmlst_sample1                 hashcgmlst_sample2  \\\n",
       "0  33541_ROE6964A8_CTCTCTAC-CTAAGCCT                 38783_Tag20_GTGGCC   \n",
       "1  33541_ROE6964A8_CTCTCTAC-CTAAGCCT                 39011_Tag14_AGTTCC   \n",
       "2  33541_ROE6964A8_CTCTCTAC-CTAAGCCT             39609_ROE2901A7_CAGATC   \n",
       "3  33541_ROE6964A8_CTCTCTAC-CTAAGCCT             39722_ROE2901A4_TGACCA   \n",
       "4  33541_ROE6964A8_CTCTCTAC-CTAAGCCT  39898_ROE3112A2_CGCTCATT-ATAGAGGC   \n",
       "\n",
       "   hashcgmlst_identity  hashcgmlst_numAllelesSame  hashcgmlst_numLociCompared  \n",
       "0             0.297177                         10                        3365  \n",
       "1             0.297530                         10                        3361  \n",
       "2             0.298597                         10                        3349  \n",
       "3             0.297442                         10                        3362  \n",
       "4             0.297619                         10                        3360  "
      ]
     },
     "execution_count": 248,
     "metadata": {},
     "output_type": "execute_result"
    }
   ],
   "source": [
    "hash_dist.head()"
   ]
  },
  {
   "cell_type": "code",
   "execution_count": 249,
   "id": "3a573934-4c61-4570-8cd0-471db5fa3e53",
   "metadata": {},
   "outputs": [],
   "source": [
    "bn_dist['key'] = bn_dist[['BN_sample1','BN_sample2']].apply('-'.join,axis=1)\n",
    "etoki_dist['key'] = etoki_dist[['Etoki_sample1','Etoki_sample2']].apply('-'.join, axis=1)\n",
    "hash_dist['key'] = hash_dist[['hashcgmlst_sample1','hashcgmlst_sample2']].apply('-'.join, axis=1)"
   ]
  },
  {
   "cell_type": "code",
   "execution_count": 250,
   "id": "c2e42fb4-8073-4aff-b909-c3df8f322090",
   "metadata": {},
   "outputs": [
    {
     "data": {
      "text/plain": [
       "(18145, 18145, 18145)"
      ]
     },
     "execution_count": 250,
     "metadata": {},
     "output_type": "execute_result"
    }
   ],
   "source": [
    "len(bn_dist), len(hash_dist), len(etoki_dist)"
   ]
  },
  {
   "cell_type": "code",
   "execution_count": 251,
   "id": "d34890ab-0691-4dcb-99bf-c2c5ead0b25f",
   "metadata": {},
   "outputs": [],
   "source": [
    "merged_dfs = pd.merge(pd.merge(bn_dist,etoki_dist,on='key'),hash_dist,on='key')"
   ]
  },
  {
   "cell_type": "code",
   "execution_count": 252,
   "id": "18123c19-3917-4c80-89c4-b916a0ee489c",
   "metadata": {},
   "outputs": [
    {
     "data": {
      "text/html": [
       "<div>\n",
       "<style scoped>\n",
       "    .dataframe tbody tr th:only-of-type {\n",
       "        vertical-align: middle;\n",
       "    }\n",
       "\n",
       "    .dataframe tbody tr th {\n",
       "        vertical-align: top;\n",
       "    }\n",
       "\n",
       "    .dataframe thead th {\n",
       "        text-align: right;\n",
       "    }\n",
       "</style>\n",
       "<table border=\"1\" class=\"dataframe\">\n",
       "  <thead>\n",
       "    <tr style=\"text-align: right;\">\n",
       "      <th></th>\n",
       "      <th>BN_sample1</th>\n",
       "      <th>BN_sample2</th>\n",
       "      <th>BN_identity</th>\n",
       "      <th>BN_numAllelesSame</th>\n",
       "      <th>BN_numLociCompared</th>\n",
       "      <th>key</th>\n",
       "      <th>Etoki_sample1</th>\n",
       "      <th>Etoki_sample2</th>\n",
       "      <th>Etoki_identity</th>\n",
       "      <th>Etoki_numAllelesSame</th>\n",
       "      <th>Etoki_numLociCompared</th>\n",
       "      <th>hashcgmlst_sample1</th>\n",
       "      <th>hashcgmlst_sample2</th>\n",
       "      <th>hashcgmlst_identity</th>\n",
       "      <th>hashcgmlst_numAllelesSame</th>\n",
       "      <th>hashcgmlst_numLociCompared</th>\n",
       "    </tr>\n",
       "  </thead>\n",
       "  <tbody>\n",
       "    <tr>\n",
       "      <th>0</th>\n",
       "      <td>33541_ROE6964A8_CTCTCTAC-CTAAGCCT</td>\n",
       "      <td>38783_Tag20_GTGGCC</td>\n",
       "      <td>0.002990</td>\n",
       "      <td>10</td>\n",
       "      <td>3344</td>\n",
       "      <td>33541_ROE6964A8_CTCTCTAC-CTAAGCCT-38783_Tag20_...</td>\n",
       "      <td>33541_ROE6964A8_CTCTCTAC-CTAAGCCT</td>\n",
       "      <td>38783_Tag20_GTGGCC</td>\n",
       "      <td>0.0</td>\n",
       "      <td>9</td>\n",
       "      <td>3382</td>\n",
       "      <td>33541_ROE6964A8_CTCTCTAC-CTAAGCCT</td>\n",
       "      <td>38783_Tag20_GTGGCC</td>\n",
       "      <td>0.297177</td>\n",
       "      <td>10</td>\n",
       "      <td>3365</td>\n",
       "    </tr>\n",
       "    <tr>\n",
       "      <th>1</th>\n",
       "      <td>33541_ROE6964A8_CTCTCTAC-CTAAGCCT</td>\n",
       "      <td>39011_Tag14_AGTTCC</td>\n",
       "      <td>0.002971</td>\n",
       "      <td>10</td>\n",
       "      <td>3366</td>\n",
       "      <td>33541_ROE6964A8_CTCTCTAC-CTAAGCCT-39011_Tag14_...</td>\n",
       "      <td>33541_ROE6964A8_CTCTCTAC-CTAAGCCT</td>\n",
       "      <td>39011_Tag14_AGTTCC</td>\n",
       "      <td>0.0</td>\n",
       "      <td>9</td>\n",
       "      <td>3404</td>\n",
       "      <td>33541_ROE6964A8_CTCTCTAC-CTAAGCCT</td>\n",
       "      <td>39011_Tag14_AGTTCC</td>\n",
       "      <td>0.297530</td>\n",
       "      <td>10</td>\n",
       "      <td>3361</td>\n",
       "    </tr>\n",
       "    <tr>\n",
       "      <th>2</th>\n",
       "      <td>33541_ROE6964A8_CTCTCTAC-CTAAGCCT</td>\n",
       "      <td>39609_ROE2901A7_CAGATC</td>\n",
       "      <td>0.003277</td>\n",
       "      <td>10</td>\n",
       "      <td>3052</td>\n",
       "      <td>33541_ROE6964A8_CTCTCTAC-CTAAGCCT-39609_ROE290...</td>\n",
       "      <td>33541_ROE6964A8_CTCTCTAC-CTAAGCCT</td>\n",
       "      <td>39609_ROE2901A7_CAGATC</td>\n",
       "      <td>0.0</td>\n",
       "      <td>9</td>\n",
       "      <td>3094</td>\n",
       "      <td>33541_ROE6964A8_CTCTCTAC-CTAAGCCT</td>\n",
       "      <td>39609_ROE2901A7_CAGATC</td>\n",
       "      <td>0.298597</td>\n",
       "      <td>10</td>\n",
       "      <td>3349</td>\n",
       "    </tr>\n",
       "    <tr>\n",
       "      <th>3</th>\n",
       "      <td>33541_ROE6964A8_CTCTCTAC-CTAAGCCT</td>\n",
       "      <td>39722_ROE2901A4_TGACCA</td>\n",
       "      <td>0.002970</td>\n",
       "      <td>10</td>\n",
       "      <td>3367</td>\n",
       "      <td>33541_ROE6964A8_CTCTCTAC-CTAAGCCT-39722_ROE290...</td>\n",
       "      <td>33541_ROE6964A8_CTCTCTAC-CTAAGCCT</td>\n",
       "      <td>39722_ROE2901A4_TGACCA</td>\n",
       "      <td>0.0</td>\n",
       "      <td>9</td>\n",
       "      <td>3407</td>\n",
       "      <td>33541_ROE6964A8_CTCTCTAC-CTAAGCCT</td>\n",
       "      <td>39722_ROE2901A4_TGACCA</td>\n",
       "      <td>0.297442</td>\n",
       "      <td>10</td>\n",
       "      <td>3362</td>\n",
       "    </tr>\n",
       "    <tr>\n",
       "      <th>4</th>\n",
       "      <td>33541_ROE6964A8_CTCTCTAC-CTAAGCCT</td>\n",
       "      <td>39898_ROE3112A2_CGCTCATT-ATAGAGGC</td>\n",
       "      <td>0.002982</td>\n",
       "      <td>10</td>\n",
       "      <td>3353</td>\n",
       "      <td>33541_ROE6964A8_CTCTCTAC-CTAAGCCT-39898_ROE311...</td>\n",
       "      <td>33541_ROE6964A8_CTCTCTAC-CTAAGCCT</td>\n",
       "      <td>39898_ROE3112A2_CGCTCATT-ATAGAGGC</td>\n",
       "      <td>0.0</td>\n",
       "      <td>9</td>\n",
       "      <td>3391</td>\n",
       "      <td>33541_ROE6964A8_CTCTCTAC-CTAAGCCT</td>\n",
       "      <td>39898_ROE3112A2_CGCTCATT-ATAGAGGC</td>\n",
       "      <td>0.297619</td>\n",
       "      <td>10</td>\n",
       "      <td>3360</td>\n",
       "    </tr>\n",
       "  </tbody>\n",
       "</table>\n",
       "</div>"
      ],
      "text/plain": [
       "                          BN_sample1                         BN_sample2  \\\n",
       "0  33541_ROE6964A8_CTCTCTAC-CTAAGCCT                 38783_Tag20_GTGGCC   \n",
       "1  33541_ROE6964A8_CTCTCTAC-CTAAGCCT                 39011_Tag14_AGTTCC   \n",
       "2  33541_ROE6964A8_CTCTCTAC-CTAAGCCT             39609_ROE2901A7_CAGATC   \n",
       "3  33541_ROE6964A8_CTCTCTAC-CTAAGCCT             39722_ROE2901A4_TGACCA   \n",
       "4  33541_ROE6964A8_CTCTCTAC-CTAAGCCT  39898_ROE3112A2_CGCTCATT-ATAGAGGC   \n",
       "\n",
       "   BN_identity  BN_numAllelesSame  BN_numLociCompared  \\\n",
       "0     0.002990                 10                3344   \n",
       "1     0.002971                 10                3366   \n",
       "2     0.003277                 10                3052   \n",
       "3     0.002970                 10                3367   \n",
       "4     0.002982                 10                3353   \n",
       "\n",
       "                                                 key  \\\n",
       "0  33541_ROE6964A8_CTCTCTAC-CTAAGCCT-38783_Tag20_...   \n",
       "1  33541_ROE6964A8_CTCTCTAC-CTAAGCCT-39011_Tag14_...   \n",
       "2  33541_ROE6964A8_CTCTCTAC-CTAAGCCT-39609_ROE290...   \n",
       "3  33541_ROE6964A8_CTCTCTAC-CTAAGCCT-39722_ROE290...   \n",
       "4  33541_ROE6964A8_CTCTCTAC-CTAAGCCT-39898_ROE311...   \n",
       "\n",
       "                       Etoki_sample1                      Etoki_sample2  \\\n",
       "0  33541_ROE6964A8_CTCTCTAC-CTAAGCCT                 38783_Tag20_GTGGCC   \n",
       "1  33541_ROE6964A8_CTCTCTAC-CTAAGCCT                 39011_Tag14_AGTTCC   \n",
       "2  33541_ROE6964A8_CTCTCTAC-CTAAGCCT             39609_ROE2901A7_CAGATC   \n",
       "3  33541_ROE6964A8_CTCTCTAC-CTAAGCCT             39722_ROE2901A4_TGACCA   \n",
       "4  33541_ROE6964A8_CTCTCTAC-CTAAGCCT  39898_ROE3112A2_CGCTCATT-ATAGAGGC   \n",
       "\n",
       "   Etoki_identity  Etoki_numAllelesSame  Etoki_numLociCompared  \\\n",
       "0             0.0                     9                   3382   \n",
       "1             0.0                     9                   3404   \n",
       "2             0.0                     9                   3094   \n",
       "3             0.0                     9                   3407   \n",
       "4             0.0                     9                   3391   \n",
       "\n",
       "                  hashcgmlst_sample1                 hashcgmlst_sample2  \\\n",
       "0  33541_ROE6964A8_CTCTCTAC-CTAAGCCT                 38783_Tag20_GTGGCC   \n",
       "1  33541_ROE6964A8_CTCTCTAC-CTAAGCCT                 39011_Tag14_AGTTCC   \n",
       "2  33541_ROE6964A8_CTCTCTAC-CTAAGCCT             39609_ROE2901A7_CAGATC   \n",
       "3  33541_ROE6964A8_CTCTCTAC-CTAAGCCT             39722_ROE2901A4_TGACCA   \n",
       "4  33541_ROE6964A8_CTCTCTAC-CTAAGCCT  39898_ROE3112A2_CGCTCATT-ATAGAGGC   \n",
       "\n",
       "   hashcgmlst_identity  hashcgmlst_numAllelesSame  hashcgmlst_numLociCompared  \n",
       "0             0.297177                         10                        3365  \n",
       "1             0.297530                         10                        3361  \n",
       "2             0.298597                         10                        3349  \n",
       "3             0.297442                         10                        3362  \n",
       "4             0.297619                         10                        3360  "
      ]
     },
     "execution_count": 252,
     "metadata": {},
     "output_type": "execute_result"
    }
   ],
   "source": [
    "# print(merged_dfs)\n",
    "merged_dfs.head()"
   ]
  },
  {
   "cell_type": "code",
   "execution_count": 253,
   "id": "1b4f1e4a-e48d-4752-9480-f800eaf899c0",
   "metadata": {},
   "outputs": [
    {
     "data": {
      "text/plain": [
       "2731"
      ]
     },
     "execution_count": 253,
     "metadata": {},
     "output_type": "execute_result"
    }
   ],
   "source": [
    "#filter data that has >75 of loci\n",
    "min_loci = int(0.75*3642)\n",
    "min_loci"
   ]
  },
  {
   "cell_type": "code",
   "execution_count": 254,
   "id": "8238f0e4-87c4-4bd3-b029-3b1ffcda92ee",
   "metadata": {},
   "outputs": [],
   "source": [
    "filtered_df = merged_dfs[(merged_dfs['BN_numLociCompared'] > min_loci) & (merged_dfs['Etoki_numLociCompared'] > min_loci) & (merged_dfs['hashcgmlst_numLociCompared'] > min_loci)]"
   ]
  },
  {
   "cell_type": "code",
   "execution_count": 255,
   "id": "9ca60376-71a8-422d-b927-bb67b722f22e",
   "metadata": {},
   "outputs": [
    {
     "data": {
      "text/plain": [
       "(14940, 14940, 14940)"
      ]
     },
     "execution_count": 255,
     "metadata": {},
     "output_type": "execute_result"
    }
   ],
   "source": [
    "len(filtered_df.BN_identity), len(filtered_df.Etoki_identity), len(filtered_df.hashcgmlst_identity)"
   ]
  },
  {
   "cell_type": "code",
   "execution_count": 256,
   "id": "fe69565f-7161-422c-8e21-71314ebc9d26",
   "metadata": {},
   "outputs": [],
   "source": [
    "# # ax = plt.gca()\n",
    "# fig=plt.figure()\n",
    "# plt.scatter(filtered_df.BN_identity,filtered_df.Etoki_identity, color='red')\n",
    "# # plt.scatter(filtered_df['BN_identity'],filtered_df['hashcgmlst_identity'], color = 'green')\n",
    "\n",
    "# # plt.plot(filtered_df.BN_identity,filtered_df.Etoki_identity,)\n",
    "# plt.xlabel('BN Identity')\n",
    "# plt.ylabel('Etoki Identity')\n",
    "# plt.show()"
   ]
  },
  {
   "cell_type": "code",
   "execution_count": 257,
   "id": "0be78232-cda3-4748-807b-8a71c435dfbd",
   "metadata": {},
   "outputs": [
    {
     "name": "stdout",
     "output_type": "stream",
     "text": [
      "Rsquared : 0.9998942878647697\n",
      "intercept: [-0.00317662]\n",
      "slope: [[1.00385377]]\n"
     ]
    },
    {
     "data": {
      "image/png": "[encoded data removed]",
      "text/plain": [
       "<Figure size 640x480 with 1 Axes>"
      ]
     },
     "metadata": {},
     "output_type": "display_data"
    }
   ],
   "source": [
    "from sklearn.linear_model import LinearRegression\n",
    "\n",
    "#BN vs Etoki\n",
    "lm = LinearRegression()\n",
    "X = filtered_df.BN_identity.values.reshape(-1,1)\n",
    "Y = filtered_df.Etoki_identity.values.reshape(-1,1)\n",
    "model = lm.fit(X, Y)\n",
    "Y_pred = model.predict(X)\n",
    "r_sq = model.score(X,Y)\n",
    "lm_stats = (f\"Rsquared : {r_sq}\\n\" f\"intercept: {model.intercept_}\\n\" f\"slope: {model.coef_}\")\n",
    "print(lm_stats)\n",
    "y_pred =  model.intercept_ + model.coef_*X\n",
    "# print(y_pred)\n",
    "\n",
    "#https://stackoverflow.com/questions/66918745/linear-regression-equation-on-the-plot-python\n",
    "\n",
    "#plotting\n",
    "plt.scatter(X, Y)\n",
    "plt.text(0.1,0.8,f'$Y = {model.coef_[0]} * X + {model.intercept_}$', fontsize = 10)\n",
    "plt.plot(X, Y_pred, color='red')\n",
    "plt.title('BN vs Etoki')\n",
    "plt.xlabel(\"BioNumerics Identity\")\n",
    "plt.ylabel(\"Etoki Identity\")\n",
    "plt.show()"
   ]
  },
  {
   "cell_type": "code",
   "execution_count": 261,
   "id": "77d3101d-ed30-4dc0-b851-be370ad3b599",
   "metadata": {},
   "outputs": [
    {
     "data": {
      "image/png": "[encoded data removed]",
      "text/plain": [
       "<Figure size 640x480 with 1 Axes>"
      ]
     },
     "metadata": {},
     "output_type": "display_data"
    }
   ],
   "source": [
    "#BN vs hash\n",
    "lm1 = LinearRegression()\n",
    "X1 = filtered_df.BN_identity.values.reshape(-1,1)\n",
    "Y1 = filtered_df.hashcgmlst_identity.values.reshape(-1,1)\n",
    "hash_model = lm1.fit(X1, Y1)\n",
    "Y_pred1 = hash_model.predict(X1)\n",
    "hash_rsq = hash_model.score(X1,Y1)\n",
    "hash_lm_stats = (f\"Rsquared : {hash_rsq}\\n\" f\"intercept: {hash_model.intercept_}\\n\" f\"slope: {hash_model.coef_}\")\n",
    "hash_y_pred =  hash_model.intercept_ + hash_model.coef_*X\n",
    "\n",
    "\n",
    "\n",
    "plt.scatter(X1, Y1)\n",
    "plt.text(0.2,0.8, f'$Y = {hash_model.coef_[0]} * X + {hash_model.intercept_}$', fontsize = 10)\n",
    "plt.plot(X1, Y_pred1, color='red')\n",
    "plt.title('BN vs hash-cgMLST')\n",
    "plt.xlabel(\"BioNumerics Identity\")\n",
    "plt.ylabel(\"hash-cgMLST Identity\")\n",
    "plt.show()"
   ]
  },
  {
   "cell_type": "code",
   "execution_count": null,
   "id": "660f5c4a-8b4c-4289-ad9c-4df215e8a232",
   "metadata": {},
   "outputs": [],
   "source": []
  }
 ],
 "metadata": {
  "kernelspec": {
   "display_name": "Python 3 (ipykernel)",
   "language": "python",
   "name": "python3"
  },
  "language_info": {
   "codemirror_mode": {
    "name": "ipython",
    "version": 3
   },
   "file_extension": ".py",
   "mimetype": "text/x-python",
   "name": "python",
   "nbconvert_exporter": "python",
   "pygments_lexer": "ipython3",
   "version": "3.9.13"
  }
 },
 "nbformat": 4,
 "nbformat_minor": 5
}
